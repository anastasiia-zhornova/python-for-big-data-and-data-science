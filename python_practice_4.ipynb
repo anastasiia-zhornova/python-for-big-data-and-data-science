{
 "cells": [
  {
   "cell_type": "markdown",
   "metadata": {
    "id": "kXpppdVm6wFy"
   },
   "source": [
    "# I. Functions. Arguments."
   ]
  },
  {
   "cell_type": "markdown",
   "metadata": {
    "id": "u_krJdlbAkVz"
   },
   "source": [
    "1. (5б) Назвіть основні 4 смислові  частини, з яких складається функція."
   ]
  },
  {
   "cell_type": "markdown",
   "metadata": {
    "id": "KKTrTXmHAptb"
   },
   "source": [
    "Назва, аргументи (параметри),тіло функції, return"
   ]
  },
  {
   "cell_type": "markdown",
   "metadata": {
    "id": "ORM4PqJQAtDM"
   },
   "source": [
    "2. (3б) Визначте функцію, що приймає 2 аргументи та повертає результат ділення 1го аргумента на інший."
   ]
  },
  {
   "cell_type": "code",
   "execution_count": 1,
   "metadata": {
    "ExecuteTime": {
     "end_time": "2024-04-03T11:49:05.699074Z",
     "start_time": "2024-04-03T11:49:05.683717Z"
    },
    "id": "EuDx-z8M6sLo"
   },
   "outputs": [],
   "source": [
    "# Define a function that takes 2 arguments, a and b\n",
    "def division(a, b):\n",
    "    result = a / b\n",
    "    return result"
   ]
  },
  {
   "cell_type": "markdown",
   "metadata": {
    "id": "5joQGQ-SAyMe"
   },
   "source": [
    "3. (2б) Викличте вище визначену функцію, де другий аргумент дорівнює 0."
   ]
  },
  {
   "cell_type": "code",
   "execution_count": null,
   "metadata": {
    "id": "V5cBV1LOA3d-"
   },
   "outputs": [],
   "source": [
    "result = division(100, 0)\n",
    "print (result)"
   ]
  },
  {
   "cell_type": "markdown",
   "metadata": {
    "id": "QyimWgW8A43-"
   },
   "source": [
    "4. (4б) Перевизначте функцію так, щоби у випадку ділення на 0 функція повертала None, а в решті випадків - результат розрахунків."
   ]
  },
  {
   "cell_type": "code",
   "execution_count": null,
   "metadata": {
    "id": "7VIODtSjA8Ek"
   },
   "outputs": [],
   "source": [
    "# Define a function that takes 2 arguments, a and b\n",
    "def division(a, b):\n",
    "    # Check if the second argument is equal to 0\n",
    "    if b == 0:\n",
    "        return None  # If the divisor is 0, return None\n",
    "    result = a / b  # Otherwise, return the division result\n",
    "    return result"
   ]
  },
  {
   "cell_type": "markdown",
   "metadata": {
    "id": "Y8mN0GfkA81l"
   },
   "source": [
    "5. (5б) Визначте функцію, що віднімає одне число від іншого (підказка: це буде 2 аргументи функції). При чому, якщо не визначити, скільки саме має бути віднято від числа, за замовчуванням має відніматися 1. Викличте функцію, передаючи тільки один аргумент."
   ]
  },
  {
   "cell_type": "code",
   "execution_count": null,
   "metadata": {
    "id": "vg1kxkdgBA50"
   },
   "outputs": [],
   "source": [
    "# Define a function that subtracts one number from another\n",
    "def subtract(a, b=1):  # If the argument b is not specified, it defaults to 1\n",
    "    result = a - b\n",
    "    return result\n",
    "\n",
    "# Call the function, passing only 1 argument (a)\n",
    "result = subtract(10)\n",
    "print(result)\n"
   ]
  },
  {
   "cell_type": "markdown",
   "metadata": {
    "id": "D3mwQGNOBBs4"
   },
   "source": [
    "6. (7б) Визначте функцію, яка приймає iterable (ітерабельний обʼєкт, напр. список), що складається з 7ми рядкових значень - назв погодних умов (напр. \"sunny\") за кожен день у тижні. Повертає функція словник, де ключами є рядки з погодними умовами, а значеннями - кількість разів, скільки дана погода була протягом тижня (напр. {'sunny': 1, ...}). Викличте цю функцію та виведіть результат її роботи на екран."
   ]
  },
  {
   "cell_type": "code",
   "execution_count": null,
   "metadata": {
    "id": "OsWm-hKcBFyn"
   },
   "outputs": [],
   "source": [
    "# Create a function that counts weather conditions from the weekly weather list\n",
    "def count_weather_conditions(weekly_weather):\n",
    "\n",
    "    weather_counts = {}  # Create a dictionary\n",
    "    for condition in weekly_weather:  # Create a loop iterating through the list\n",
    "        if condition not in weather_counts:\n",
    "            weather_counts[condition] = 1  # If the weather condition is not in the dictionary yet, set this weather condition as a key and set the value to 1\n",
    "        else:\n",
    "            weather_counts[condition] += 1  # If the weather condition is already in the dictionary, update the count by adding 1\n",
    "\n",
    "    return weather_counts\n",
    "\n",
    "# For example, we have a list of weather conditions\n",
    "weekly_weather = [\"sunny\", \"rainy\", \"cloudy\", \"sunny\", \"sunny\", \"rainy\", \"cloudy\"]\n",
    "\n",
    "# Call the function and print the result\n",
    "result = count_weather_conditions(weekly_weather) \n",
    "print(result)\n"
   ]
  },
  {
   "cell_type": "markdown",
   "metadata": {
    "id": "RMiCcdOsBKQT"
   },
   "source": [
    "7. (15б) Напишіть програму, яка б шукала необхідне число у впорядкованому списку цілочислених значень, де\n",
    "число має вводитись з консолі.\n",
    "власне алгоритм пошуку винесений в окрему функцію, яка повертає булеве значення (знайдено число - True, не знайдено - False).\n",
    "в залежності від результату функції, виведіть на екран повідомлення про успішний або ж неуспішний пошук.\n",
    "Зауваження: використовувати оператор in заборонено."
   ]
  },
  {
   "cell_type": "code",
   "execution_count": null,
   "metadata": {
    "id": "UNCZg65OBOy-"
   },
   "outputs": [],
   "source": [
    "# Perform binary search, searching for the specified number (target) in the sorted sequence array)\n",
    "def binary_search(arr, target):\n",
    "    # Define the first and last elements of the sequence\n",
    "    left = 0\n",
    "    right = len(arr) - 1\n",
    "\n",
    "    while left <= right:  # Create a loop while the first element of the sorted sequence is not empty\n",
    "        mid = (left + right) // 2  # Find the middle element\n",
    "        if arr[mid] == target:  # If the target element is equal to the middle one, return True\n",
    "            return True\n",
    "        elif arr[mid] < target:  # If the target element is greater than the middle one, consider the next element in the sequence to be the first one\n",
    "            left = mid + 1\n",
    "        else:\n",
    "            right = mid - 1  # If the target element is less than the middle one, consider the element just before the middle one to be the last one in the sequence\n",
    "\n",
    "    return False\n",
    "\n",
    "# Define the main function\n",
    "def main():\n",
    "    # Create a sorted sequence of numbers that are divisible evenly by 3 or 5 in the range from 1 to 51\n",
    "    arr = [num for num in range(1, 51) if num % 3 == 0 or num % 5 == 0]\n",
    "\n",
    "    # Get the target number from the console\n",
    "    target = int(input(\"Enter the number to search for: \"))\n",
    "\n",
    "    # Perform binary search and print the search result\n",
    "    found = binary_search(arr, target)\n",
    "    if found:\n",
    "        print(f\"The search for {target} was successful.\")\n",
    "    else:\n",
    "        print(f\"The search for {target} was unsuccessful.\")\n",
    "\n",
    "main()\n"
   ]
  },
  {
   "cell_type": "markdown",
   "metadata": {
    "id": "Ae1n_OvLBTsy"
   },
   "source": [
    "# II. Lambda functions."
   ]
  },
  {
   "cell_type": "markdown",
   "metadata": {
    "id": "xaD_wSlaCWen"
   },
   "source": [
    "8. (4б) В яких випадках варто використовувати лямбда-функції?"
   ]
  },
  {
   "cell_type": "markdown",
   "metadata": {
    "id": "42MB6OoLCakR"
   },
   "source": [
    "Коли потрібна невелика функція, яка використовуватиметься один раз в одному рядку"
   ]
  },
  {
   "cell_type": "markdown",
   "metadata": {
    "id": "USrzrk7GCedk"
   },
   "source": [
    "9. (9б) Визначте список з рядками. Після цього визначте анонімну функцію для отримання першого символу у верхньому регістрі для кожного рядка списку.\n",
    "Підказка: використовуйте анонімну функцію в якості агрумента до вбудованої ф-ції, яка створена для застосування функцій над iterable обʼєктами. Результат виведіть на екран у вигляді кортежу."
   ]
  },
  {
   "cell_type": "code",
   "execution_count": null,
   "metadata": {
    "id": "M8QWUsMlCjWH"
   },
   "outputs": [],
   "source": [
    "# Create a list of strings\n",
    "strings_list = [\"mathematics\", \"chemistry\", \"physics\", \"programming\", \"English language\"]\n",
    "\n",
    "# Create an anonymous function that converts the first character to uppercase\n",
    "make_first_upper = lambda s: s[0].upper()\n",
    "\n",
    "# Use the anonymous function as an argument to the built-in map function\n",
    "result = tuple(map(make_first_upper, strings_list))\n",
    "\n",
    "# Print the result as a tuple\n",
    "print(result)\n"
   ]
  },
  {
   "cell_type": "markdown",
   "metadata": {
    "id": "9fyUhXOoCtGp"
   },
   "source": [
    "10. (10б) Визначте список з числовими значеннями (і цілими, і з рухомою комою). а) Відфільтруйте всі числа, які діляться націло на 3 за допомогою вбудованої функції та анонімної функції в якості аргумента). Збережіть результат у змінній, не приводяти явно до будь-якого типу. б) Використовуючи результат на кроці 12.а у якості аргументу, та за допомогою лямбда-функції в якості іншого аргументу до вбудованої функції, додайте до кожного елементу число 1 та опісля зведіть у квадрат. Остаточний результат приведіть явно до списку та виведіть на екран."
   ]
  },
  {
   "cell_type": "code",
   "execution_count": null,
   "metadata": {
    "id": "exEx2_okCsql"
   },
   "outputs": [],
   "source": [
    "# Create a list of integers and floating-point numbers\n",
    "numeric_values = list(range(1, 10)) + [i + 0.5 for i in range(1, 10)]\n",
    "\n",
    "# Filter numbers that are divisible evenly by three\n",
    "filtered_values = filter(lambda i: i % 3 == 0, numeric_values)\n",
    "\n",
    "# Using the variable from the previous step, add 1 and square each element\n",
    "result = map(lambda i: (i + 1) ** 2, filtered_values)\n",
    "\n",
    "# Convert to a list and print\n",
    "result_list = list(result)\n",
    "print(result_list)\n"
   ]
  },
  {
   "cell_type": "markdown",
   "metadata": {
    "id": "o_x8cG_WC7jp"
   },
   "source": [
    "# III. Decorators."
   ]
  },
  {
   "cell_type": "markdown",
   "metadata": {
    "id": "mhxS4-mfC8LQ"
   },
   "source": [
    "11. (11б) Визначте декоратор, який би виводив у консоль повідомлення про початок роботи і назву функції (напр. my_function._ _ name _ _), а після відпрацювання функції - повідомлення про закінчення роботи і назву функції, що задекорована."
   ]
  },
  {
   "cell_type": "code",
   "execution_count": null,
   "metadata": {
    "id": "srd1ygWjDGhO"
   },
   "outputs": [],
   "source": [
    "# Define a decorator\n",
    "def my_decorator(func):\n",
    "    # Define the wrapper function, which prints a message about the start and end of the decorated function's execution and its name\n",
    "    def wrapper(*args, **kwargs):\n",
    "        print(f\"{func.__name__} is launched\")\n",
    "        result = func(*args, **kwargs)  # Call the decorated function\n",
    "        print(f\"{func.__name__} is executed\")\n",
    "        return result\n",
    "    return wrapper\n",
    "\n",
    "# Example usage\n",
    "@my_decorator  # Call the decorator\n",
    "def greeting_function():  # Define the decorated function\n",
    "    print(\"Hello!\")\n",
    "greeting_function()\n"
   ]
  },
  {
   "cell_type": "markdown",
   "metadata": {
    "id": "rxGZwVBiDph3"
   },
   "source": [
    "12. (4б) Задекоруйте двома різними способами функції з завдання 4 та 5 декоратором із завдання 11. (**УВАГА**: не декоруйте функції двічі!)."
   ]
  },
  {
   "cell_type": "code",
   "execution_count": 5,
   "metadata": {
    "ExecuteTime": {
     "end_time": "2024-04-03T16:34:26.367868Z",
     "start_time": "2024-04-03T16:34:26.347634Z"
    },
    "id": "06lj7eq_DwZe"
   },
   "outputs": [
    {
     "name": "stdout",
     "output_type": "stream",
     "text": [
      "division is launched\n",
      "2.0\n",
      "division  is executed\n",
      "subtract is launched\n",
      "9\n",
      "subtract  is executed\n"
     ]
    }
   ],
   "source": [
    "# Define a decorator\n",
    "def my_decorator(func):\n",
    "    # Define the wrapper function, which prints a message about the start and end of the decorated function's execution and its name\n",
    "    def wrapper(*args, **kwargs):\n",
    "        print(f\"{func.__name__} is launched\")\n",
    "        result = func(*args, **kwargs)\n",
    "        print(result)  # Add this line to print the result of the operation\n",
    "        print(f\"{func.__name__} is executed\")\n",
    "        return result\n",
    "    return wrapper\n",
    "\n",
    "# Decorate the function from Task 4 using the first method\n",
    "# Define a function that takes 2 arguments a and b\n",
    "def division(a, b):\n",
    "    # Check if the second argument is 0\n",
    "    if b == 0:\n",
    "        return None  # If the divisor is 0, return None\n",
    "    result = a / b  # Otherwise, return the result of division\n",
    "    return result\n",
    "\n",
    "division = my_decorator(division)\n",
    "result = division(10, 5)\n",
    "\n",
    "# Decorate the function from Task 5 using the second method\n",
    "@my_decorator\n",
    "# Define a function that subtracts one number from another\n",
    "def subtract(a, b=1):  # If the argument b is not defined, it defaults to 1\n",
    "    result = a - b\n",
    "    return result\n",
    "\n",
    "# Call the function, passing only 1 argument (a)\n",
    "result = subtract(10)\n"
   ]
  },
  {
   "cell_type": "markdown",
   "metadata": {
    "id": "P0ep1urBDzf-"
   },
   "source": [
    "13. (2б) Викличте одну з задекорованих функцій і виведіть її результат на екран."
   ]
  },
  {
   "cell_type": "code",
   "execution_count": 7,
   "metadata": {
    "ExecuteTime": {
     "end_time": "2024-04-03T16:48:31.802578Z",
     "start_time": "2024-04-03T16:48:31.795070Z"
    },
    "id": "1QvTw0ctD0S3"
   },
   "outputs": [
    {
     "name": "stdout",
     "output_type": "stream",
     "text": [
      "subtract is launched\n",
      "9\n",
      "subtract  is executed\n"
     ]
    }
   ],
   "source": [
    "result = subtract(10)"
   ]
  },
  {
   "cell_type": "markdown",
   "metadata": {
    "id": "poECCpuoD2S9"
   },
   "source": [
    "# IV. Recursion."
   ]
  },
  {
   "cell_type": "markdown",
   "metadata": {
    "id": "DqkURfdsD7MY"
   },
   "source": [
    "14. (4б) Назвіть дві частини функції, які є обовʼязковими для того, щоб називати її рекурсивною."
   ]
  },
  {
   "cell_type": "markdown",
   "metadata": {
    "id": "HYW6ttIeIQIU"
   },
   "source": [
    "Base case (умова зупину, базовий випадок) та recursive case (виклик самої себе)"
   ]
  },
  {
   "cell_type": "markdown",
   "metadata": {
    "collapsed": false
   },
   "source": []
  },
  {
   "cell_type": "markdown",
   "metadata": {
    "id": "WYVt20UmEA35"
   },
   "source": [
    "15. (15б) Визначте функцію, яка рекурсивно реалізовує пошук числа у послідовності Фібоначчі за її індексом (нумерація починається з нуля). Наприклад, потрібно знайти перше число у послідовності, тоді функція прийматиме 0 у якості аргумента і повертатиме 1, якщо ж знаходити третє число (індекс 2) послідовності, то функція повертатиме 2, якщо ж знаходити десяте число (індекс 9), то функція повертатиме 55."
   ]
  },
  {
   "cell_type": "code",
   "execution_count": null,
   "metadata": {
    "id": "xIMhp05AIpV_"
   },
   "outputs": [],
   "source": [
    "# Define a recursive function\n",
    "def fibonacci(index):\n",
    "    if index == 0:  # For the number with index 0, return 0\n",
    "        return 0\n",
    "    elif index == 1:  # For the number with index 1, return 1\n",
    "        return 1\n",
    "    else:  # For other cases, add the last and the penultimate element in the sequence\n",
    "        return fibonacci(index - 1) + fibonacci(index - 2)\n",
    "\n",
    "# Get the index of the desired number from the console\n",
    "index = int(input(\"Enter the index of the element (starting from 0): \"))\n",
    "\n",
    "# Find the corresponding number in the Fibonacci sequence and print it\n",
    "result = fibonacci(index)\n",
    "print(f\"The number at index {index} in the Fibonacci sequence is {result}\")"
   ]
  },
  {
   "cell_type": "markdown",
   "metadata": {
    "id": "ytXC8n_4Ip0W"
   },
   "source": [
    "# Вітаю! Ви велика(ий) молодець, що впоралась(вся). Похваліть себе та побалуйте чимось приємним. Я Вами пишаюся."
   ]
  }
 ],
 "metadata": {
  "colab": {
   "provenance": []
  },
  "kernelspec": {
   "display_name": "Python 3",
   "language": "python",
   "name": "python3"
  },
  "language_info": {
   "name": "python",
   "version": "3.11.4 (v3.11.4:d2340ef257, Jun  6 2023, 19:15:51) [Clang 13.0.0 (clang-1300.0.29.30)]"
  },
  "vscode": {
   "interpreter": {
    "hash": "aee8b7b246df8f9039afb4144a1f6fd8d2ca17a180786b69acc140d282b71a49"
   }
  }
 },
 "nbformat": 4,
 "nbformat_minor": 0
}
