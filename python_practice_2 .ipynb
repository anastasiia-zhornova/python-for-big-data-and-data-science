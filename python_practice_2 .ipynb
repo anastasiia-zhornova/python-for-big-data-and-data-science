{
 "cells": [
  {
   "cell_type": "markdown",
   "metadata": {
    "id": "p9wwt0LZzNvn"
   },
   "source": [
    "# I. Змінні та памʼять."
   ]
  },
  {
   "cell_type": "markdown",
   "metadata": {
    "id": "HTJrrm95xSV9"
   },
   "source": [
    "1. Створити змінні, що посилаються на два цілих числа, що однакові за значенням, де значення належить проміжку від -5 до 256. Перевірте, чи будуть ці змінні рівні тільки за значенням або ж ще будуть посилатися на один і той самий обʼєкт в памʼяті? Наведіть код та дайте текстову відповідь нижче."
   ]
  },
  {
   "cell_type": "code",
   "execution_count": null,
   "metadata": {
    "id": "TATni2vzayjG",
    "is_executing": true
   },
   "outputs": [],
   "source": [
    "var1 = 10\n",
    "var2 = 10\n",
    "\n",
    "# Check if the variables refer to the same object in memory\n",
    "print(\"Variables refer to the same object in memory:\", id(var1) == id(var2))\n"
   ]
  },
  {
   "cell_type": "markdown",
   "metadata": {
    "id": "zfRG_o3WbRdg"
   },
   "source": [
    "Змінні не лише рівні за значенням, а й посилаються на один і той самий об'єкт в пам'яті"
   ]
  },
  {
   "cell_type": "markdown",
   "metadata": {
    "id": "ISORzt6M3vAt"
   },
   "source": [
    "2. За допомогою якої функції можна перевірити належність змінної до вказаного типу даних (напр. чи змінна True посилається на значення булевого та цілочисленого типу)?"
   ]
  },
  {
   "cell_type": "code",
   "execution_count": null,
   "metadata": {
    "id": "9vL9CFaMbfyo"
   },
   "outputs": [],
   "source": [
    "# Using the isinstance(<variable>, <data type>) functions. For example,\n",
    "\n",
    "var1 = True\n",
    "\n",
    "# Check if the variable True refers to a boolean value\n",
    "print(isinstance(var1, bool))\n",
    "\n",
    "# Check if the variable True refers to an integer value\n",
    "print(isinstance(var1, int))\n",
    "\n"
   ]
  },
  {
   "cell_type": "markdown",
   "metadata": {
    "collapsed": false
   },
   "source": []
  },
  {
   "cell_type": "markdown",
   "metadata": {
    "id": "tRxugKAxwYLw"
   },
   "source": [
    "# II. Цілі числа та числа з рухомою комою"
   ]
  },
  {
   "cell_type": "markdown",
   "metadata": {
    "id": "NLHkgd5Gybc8"
   },
   "source": [
    "3. Створити дві змінні, що посилаються на будь-які ціле число та число з рухомою комою та продемонструвати такі арифметичні операції: додавання, віднімання, ділення, множення, ділення без залишку, ділення по модулю, приведення до ступеню. Всі результати операцій вивести на екран."
   ]
  },
  {
   "cell_type": "code",
   "execution_count": null,
   "metadata": {
    "id": "nb8u_3pjb2cA",
    "is_executing": true
   },
   "outputs": [],
   "source": [
    "# Define variables\n",
    "integer_value = 13\n",
    "float_value = 3.7\n",
    "\n",
    "# Addition\n",
    "addition_result = integer_value + float_value\n",
    "print(\"Addition result:\", addition_result)\n",
    "\n",
    "# Subtraction\n",
    "subtraction_result = integer_value - float_value\n",
    "print(\"Subtraction result:\", subtraction_result)\n",
    "\n",
    "# Division\n",
    "division_result = integer_value / float_value\n",
    "print(\"Division result:\", division_result)\n",
    "\n",
    "# Multiplication\n",
    "multiplication_result = integer_value * float_value\n",
    "print(\"Multiplication result:\", multiplication_result)\n",
    "\n",
    "# Division without remainder\n",
    "division_norem_result = integer_value // float_value\n",
    "print(\"Division without remainder result:\", division_norem_result)\n",
    "\n",
    "# Division by modulo\n",
    "division_bymod_result = integer_value % float_value\n",
    "print(\"Division by modulo result:\", division_bymod_result)\n",
    "\n",
    "# Exponentiation\n",
    "exponentiation_result = integer_value ** 2\n",
    "print(\"Exponentiation result:\", exponentiation_result)\n"
   ]
  },
  {
   "cell_type": "markdown",
   "metadata": {
    "id": "1kBClKgPzZnC"
   },
   "source": [
    "4. Використовуючи змінні з вправи 3, продемонструйте механізм явного перетворення типів, де числа з рухомою комою перетворюються на цілі числа. Також визначте змінну, що посилається на значення булевого типу і спробуйте явно привести її до цілого числа."
   ]
  },
  {
   "cell_type": "code",
   "execution_count": null,
   "metadata": {
    "id": "TbqJbkeUcKsD",
    "is_executing": true
   },
   "outputs": [],
   "source": [
    "# Redefine variables\n",
    "integer_value = 13\n",
    "float_value = 3.7\n",
    "\n",
    "# Explicit conversion of a floating-point number to an integer\n",
    "float_to_int = int(float_value)\n",
    "print(\"Float to integer:\", float_to_int)\n",
    "\n",
    "# Explicit conversion of a boolean variable to an integer\n",
    "bool_value = True\n",
    "bool_to_int = int(bool_value)\n",
    "print(\"Boolean to integer:\", bool_to_int)\n"
   ]
  },
  {
   "cell_type": "markdown",
   "metadata": {
    "id": "EVJ7AflwxrZi"
   },
   "source": [
    "# IІІ. Рядки (String)."
   ]
  },
  {
   "cell_type": "markdown",
   "metadata": {
    "id": "_s5ECzz9zE61"
   },
   "source": [
    "5. Створити пустий рядок двома різними способами."
   ]
  },
  {
   "cell_type": "code",
   "execution_count": null,
   "metadata": {
    "id": "fkZJHu9Scvc-"
   },
   "outputs": [],
   "source": [
    "# Method 1\n",
    "empty_string_1 = ''\n",
    "\n",
    "# Method 2\n",
    "empty_string_2 = str()"
   ]
  },
  {
   "cell_type": "markdown",
   "metadata": {
    "id": "4Bdn9J3MzLf_"
   },
   "source": [
    "6. Створити рядок з апострофом. Зробити його сирим. Вивести обидва рядка на екран."
   ]
  },
  {
   "cell_type": "code",
   "execution_count": null,
   "metadata": {
    "id": "ivji_hsmc0GH"
   },
   "outputs": [],
   "source": [
    "# String with an apostrophe\n",
    "string1 = '''Anna's book'''\n",
    "\n",
    "# Making the string raw\n",
    "raw_string = repr(string1)\n",
    "\n",
    "# Output to the screen\n",
    "print(string1, raw_string)\n"
   ]
  },
  {
   "cell_type": "markdown",
   "metadata": {
    "id": "bg_d8wM4z8dS"
   },
   "source": [
    "7. Створити змінну, що буде посилатися на Ваше прізвище латинкою. Створити форматований рядок, який буде мати вигляд \"My surname is ______\", де на місці нижніх підкреслень буде Ваше прізвище зі змінної."
   ]
  },
  {
   "cell_type": "code",
   "execution_count": null,
   "metadata": {
    "id": "kuxFgpWndACq"
   },
   "outputs": [],
   "source": [
    "my_surname = 'Zhornova'\n",
    "print(\"My surname is\", my_surname)"
   ]
  },
  {
   "cell_type": "markdown",
   "metadata": {
    "id": "1Nc6RqvQ0hxU"
   },
   "source": [
    "8. Маючи рядок \"My dog is crazy.\" перетворити його на список [\"my\", \"dog\", \"is\", \"crazy\"]"
   ]
  },
  {
   "cell_type": "code",
   "execution_count": null,
   "metadata": {
    "id": "w1Ya4RqedUhw",
    "is_executing": true
   },
   "outputs": [],
   "source": [
    "# Define the string\n",
    "original_string = \"My dog is crazy.\"\n",
    "\n",
    "# Remove the period at the end and convert the string to lowercase\n",
    "string_without_period = original_string[:-1]\n",
    "word_list = original_string.lower().split()\n",
    "\n",
    "# Print the list\n",
    "print(word_list)\n"
   ]
  },
  {
   "cell_type": "markdown",
   "metadata": {
    "id": "GYVqN9uP1D4n"
   },
   "source": [
    "# IV. Робота зі списками."
   ]
  },
  {
   "cell_type": "markdown",
   "metadata": {
    "id": "7-DeDunw2sO-"
   },
   "source": [
    "9. Створити список двома різними за синтаксисом способами. За допомогою вбудованої функції обчисліть довжину одного з них."
   ]
  },
  {
   "cell_type": "code",
   "execution_count": null,
   "metadata": {
    "id": "zxg06Uuxdyoh"
   },
   "outputs": [],
   "source": [
    "# Create a list using the first method\n",
    "list1 = [1, 2, 3, 4, 5]\n",
    "\n",
    "# Create a list using the second method\n",
    "list2 = list(range(1, 6))\n",
    "\n",
    "# Determine the length of the first list\n",
    "length_of_list1 = len(list1)\n"
   ]
  },
  {
   "cell_type": "markdown",
   "metadata": {
    "id": "8vmGUTjL22gI"
   },
   "source": [
    "10. Створіть два списка та за допомогою спеціального методу додайте другий з них в якості останнього елемента першого."
   ]
  },
  {
   "cell_type": "code",
   "execution_count": null,
   "metadata": {
    "id": "uHtjWYw7d7hm"
   },
   "outputs": [],
   "source": [
    "# Create 2 lists\n",
    "list1 = list(range(1, 6))\n",
    "list2 = list(range(6, 11))\n",
    "\n",
    "# Add the second list as the last element of the first one\n",
    "list1.extend(list2)\n"
   ]
  },
  {
   "cell_type": "markdown",
   "metadata": {
    "id": "JC3BkD-67_--"
   },
   "source": [
    "11. Створіть список, де елементами цього списку також є списки. Отримай перший елемент з останнього рядка та виведи значення на екран."
   ]
  },
  {
   "cell_type": "code",
   "execution_count": null,
   "metadata": {
    "id": "Kz2jZHsGeLlz"
   },
   "outputs": [],
   "source": [
    "# Create a list whose elements are lists\n",
    "nested_list = [[1, 2, 3], [4, 5, 6], [7, 8, 9]]\n",
    "\n",
    "# Get the first element (0) from the last row (2) and print its value\n",
    "print(\"First element from the last row:\", nested_list[2][0])\n"
   ]
  },
  {
   "cell_type": "markdown",
   "metadata": {
    "id": "JA47PKTv8zFK"
   },
   "source": [
    "12. Створіть список з десяти елементів різного типу. Отримайте всі елементи, окрім двох перших та двох останніх та збережіть їх в новій змінній."
   ]
  },
  {
   "cell_type": "code",
   "execution_count": null,
   "metadata": {
    "id": "_rHdUR-ueP4-"
   },
   "outputs": [],
   "source": [
    "# Create a list with ten elements of different types\n",
    "original_list = [1, 'two', 3.0, [4, 5], {'key': 'value'}, True, None, (8, 9), 'last', 10]\n",
    "\n",
    "# Create a new variable with all elements except the first two and the last two\n",
    "new_list = original_list[2:-2]\n",
    "\n",
    "# Print to the screen\n",
    "print(new_list)"
   ]
  },
  {
   "cell_type": "markdown",
   "metadata": {
    "id": "pCjR1dJb1Qbi"
   },
   "source": [
    "# V. Робота з кортежами."
   ]
  },
  {
   "cell_type": "markdown",
   "metadata": {
    "id": "fAZCxAX06R_k"
   },
   "source": [
    "14. Створити кортеж з один елементом."
   ]
  },
  {
   "cell_type": "code",
   "execution_count": null,
   "metadata": {
    "id": "H7d82WkQev3e"
   },
   "outputs": [],
   "source": [
    "my_tuple = (1,)"
   ]
  },
  {
   "cell_type": "markdown",
   "metadata": {
    "id": "8LCtYcmI6w1M"
   },
   "source": [
    "15. Порівняйте список та кортеж. Назвіть схожості та відмінності, випадки використання."
   ]
  },
  {
   "cell_type": "markdown",
   "metadata": {
    "id": "fUsN1Hnue0C6"
   },
   "source": [
    "Схожості: \n",
    "І кортежі, і списки зберігають впорядковану послідовність елементів. Над обома можна проводити операції ітерації,а елементи індексуються. Обидва можуть містити елементи що відносчться до різного типу даних\n",
    "\n",
    "Відмінності:\n",
    "Ключова різниця між списками і кортежами полягає в тому, що список - це мутабельний об'єкт, а кортеж - немутабельний, тобто його елементи не можна змінити. Для списку ми використовуємо квадратні дужки,а для кортежу - круглі, а також кому\n",
    "\n",
    "Використання: \n",
    " Cписики використовуються здебільшого у тих випадках, коли передбачається внесення змін до переліку, як-от додавання або видалення елементів. Наприклад, для список можна використати для відображення черги, оскільки такий об'єкт є динамічним і до нього можна легко внести зміни. Кортежі, в свою чергу, використовуються для незмінних (фіксованих) переліків елементів. Наприклад, кортежі викорисстовуються для відображення баз даних або пар ключ-значення (в тих випадках, коли ключ не змінюється). "
   ]
  },
  {
   "cell_type": "markdown",
   "metadata": {
    "id": "m0xrwFijAmDD"
   },
   "source": [
    "16. Створіть кортеж з 11ти елементів чисел з рухомою комою та отримайте кожен парний за індексом елемент в зворотньому порядку. Наприклад, маючи (1.2, 2.3, 3.3, 4.3, 5.3, 6.3, 7.3, 8.3, 9.3, 0.3), отримати (0.3, 8.3, 6.3, 4.3, 2.3). Результат збережіть в нову змінну та виведіть на екран."
   ]
  },
  {
   "cell_type": "markdown",
   "metadata": {
    "collapsed": false
   },
   "source": []
  },
  {
   "cell_type": "code",
   "execution_count": null,
   "metadata": {
    "id": "p-5DAH6XfAGA",
    "is_executing": true
   },
   "outputs": [],
   "source": [
    "# Create a tuple of 11 elements with floating point numbers\n",
    "original_tuple = tuple(1.5 + 1.0 * i for i in range(11))\n",
    "\n",
    "# Get elements at even indices in reverse order and print to the screen\n",
    "new_tuple = original_tuple[-2::-2]\n",
    "print(new_tuple)"
   ]
  },
  {
   "cell_type": "markdown",
   "metadata": {
    "id": "rW_I9dt3x6cW"
   },
   "source": [
    "# VI. Множини (Set)."
   ]
  },
  {
   "cell_type": "markdown",
   "metadata": {
    "id": "zNjRLHLw1Bgg"
   },
   "source": [
    "17. Створити множину без елементів. Після цого за допомогою методу додайте кілька різних елементів до множини. Чи множини є змінним типом даних?"
   ]
  },
  {
   "cell_type": "markdown",
   "metadata": {
    "collapsed": false
   },
   "source": []
  },
  {
   "cell_type": "code",
   "execution_count": null,
   "metadata": {
    "id": "KOv7zc2Kfo4N"
   },
   "outputs": [],
   "source": [
    "# Create an empty set\n",
    "set1 = set()\n",
    "\n",
    "# Add elements in two ways\n",
    "set1.add(1)\n",
    "my_set.update([2, 3])"
   ]
  },
  {
   "cell_type": "markdown",
   "metadata": {
    "id": "vxS6dVYiftZQ"
   },
   "source": [
    "Множини є змінним типом даних (окрім незмінної множини frozenset) "
   ]
  },
  {
   "cell_type": "markdown",
   "metadata": {
    "id": "gHpT0Zw_1HEF"
   },
   "source": [
    "18. Створити множину, маючи список my_list = [1, 1, 2, 67, 67, 8, 9]. Пояснити, чому \"зникли\" деякі елементи."
   ]
  },
  {
   "cell_type": "code",
   "execution_count": null,
   "metadata": {
    "id": "qCN4uvJ_fxmu"
   },
   "outputs": [],
   "source": [
    "# Define a list and create a set\n",
    "my_list = [1, 1, 2, 67, 67, 8, 9]\n",
    "my_set = set(my_list)\n",
    "\n",
    "# Print to the screen\n",
    "print(my_set)"
   ]
  },
  {
   "cell_type": "markdown",
   "metadata": {
    "id": "tFNc1e20fyny"
   },
   "source": [
    "Множина — це змінюваний невпорядкований набір унікальних хешованих об'єктів, а отже неунікальні елементи не додаютья у множину. У завданні 18, наприклад, в списку 1 зустрічається двічі, в множині -- лише 1 раз"
   ]
  },
  {
   "cell_type": "markdown",
   "metadata": {
    "id": "SRMkGizS1UwY"
   },
   "source": [
    "19. Створіть дві множини. Продемонстуйте над ними операції: обʼєднання, різниці, пересічі та симетричної різниці. Використовуйте методи, що не змінюють множини, а створюють нові."
   ]
  },
  {
   "cell_type": "markdown",
   "metadata": {
    "collapsed": false
   },
   "source": []
  },
  {
   "cell_type": "code",
   "execution_count": null,
   "metadata": {
    "id": "h0T-VuDnf3Ri"
   },
   "outputs": [],
   "source": [
    "# Create 2 sets\n",
    "set1 = {1, 2, 3, 4, 5}\n",
    "set2 = {4, 5, 6, 7, 8}\n",
    "\n",
    "# Union: elements contained in either set1 or set2 (or both)\n",
    "union_set = set1.union(set2)\n",
    "print(\"Union:\", union_set)\n",
    "\n",
    "# Difference: elements contained in set1 but not in set2\n",
    "difference_set = set1.difference(set2)\n",
    "print(\"Difference (set1 - set2):\", difference_set)\n",
    "\n",
    "# Intersection: elements contained in both set1 and set2\n",
    "intersection_set = set1.intersection(set2)\n",
    "print(\"Intersection:\", intersection_set)\n",
    "\n",
    "# Symmetric difference: elements contained in set1 or set2, but not in both\n",
    "symmetric_difference_set = set1.symmetric_difference(set2)\n",
    "print(\"Symmetric Difference:\", symmetric_difference_set)"
   ]
  },
  {
   "cell_type": "markdown",
   "metadata": {
    "id": "kWc8gkzTx7Ea"
   },
   "source": [
    "# VII. Словники (Dictionary)."
   ]
  },
  {
   "cell_type": "markdown",
   "metadata": {
    "id": "i5FLwj-B2ybQ"
   },
   "source": [
    "20. Створіть пустий словник. До нього додайте чотири пари елементів такі, щоб їхні ключі були різних типів. Чи може список бути ключем? Чому?"
   ]
  },
  {
   "cell_type": "code",
   "execution_count": null,
   "metadata": {
    "id": "hxgv3BzrgLAV"
   },
   "outputs": [],
   "source": [
    "# Create an empty dictionary\n",
    "my_dict = {}\n",
    "\n",
    "# Add four key-value pairs with keys of different types\n",
    "my_dict[1] = \"Integer Key\"\n",
    "my_dict['two'] = \"String Key\"\n",
    "my_dict[(3, 4)] = \"Tuple Key\"\n",
    "my_dict[3.14] = \"Float Key\""
   ]
  },
  {
   "cell_type": "markdown",
   "metadata": {
    "id": "zwa7UVN-gR3m"
   },
   "source": [
    "Ні. Ключем може бути лише незмінний об'єкт, а список є мутабельним"
   ]
  },
  {
   "cell_type": "markdown",
   "metadata": {
    "id": "WM_pMlJsgoNf"
   },
   "source": [
    "21. Створіть словник, де значенням в одній з пар теж буде словник, який теж має вкладений словник. Виведіть на екран значення, що міститься в словнику, що знаходиться на найнижчому рівні ієрархії вкладеності (найбільш внутрішній)."
   ]
  },
  {
   "cell_type": "code",
   "execution_count": null,
   "metadata": {
    "id": "60dlP7IHhAy4"
   },
   "outputs": [],
   "source": [
    "# Create a dictionary with nested dictionaries\n",
    "my_dict = {\n",
    "    \"outer_key\": {\n",
    "        \"inner_key1\": {\n",
    "            \"inner_inner_key\": \"value\"\n",
    "        },\n",
    "        \"inner_key2\": \"another value\"\n",
    "    }\n",
    "}\n",
    "\n",
    "# Get the value at the lowest level and print it to the screen\n",
    "inner_inner_value = my_dict[\"outer_key\"][\"inner_key1\"][\"inner_inner_key\"]\n",
    "print(inner_inner_value)\n"
   ]
  },
  {
   "cell_type": "markdown",
   "metadata": {
    "id": "xOZP0hkx6cCr"
   },
   "source": [
    "# Вітаю! Ви велика(ий) молодець, що впоралась(вся). Похваліть себе та побалуйте чимось приємним. Я Вами пишаюся."
   ]
  }
 ],
 "metadata": {
  "colab": {
   "provenance": []
  },
  "kernelspec": {
   "display_name": "Python 3",
   "name": "python3"
  },
  "language_info": {
   "name": "python"
  }
 },
 "nbformat": 4,
 "nbformat_minor": 0
}
