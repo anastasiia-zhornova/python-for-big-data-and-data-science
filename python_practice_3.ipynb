{
 "cells": [
  {
   "cell_type": "markdown",
   "metadata": {
    "id": "qDEi2Pi-4yUC"
   },
   "source": [
    "# I. Оператори порівняння та логічні оператори. Умови."
   ]
  },
  {
   "cell_type": "markdown",
   "metadata": {
    "id": "3v8D4Dkm43Ua"
   },
   "source": [
    "1. Створіть цілочисленну змінну зі своїм щасливим або улюбленим числом. Напишіть код, який би автоматизовував наступну задачу.\n",
    "\n",
    "Якщо число парне, помножте його на 2 та виведіть результат на екран.\n",
    "\n",
    "Але якщо число непарне, помножте його на 3 та додайте 1 і виведіть на екран."
   ]
  },
  {
   "cell_type": "code",
   "execution_count": null,
   "metadata": {
    "id": "dlVjc-Nu4bmb"
   },
   "outputs": [],
   "source": [
    "# Create an integer variable\n",
    "my_fav_int = 8\n",
    "\n",
    "if my_fav_int % 2 == 0:  # Check if the variable is even\n",
    "    print(my_fav_int * 2)  # If so, print the result of multiplying the variable by 2\n",
    "else:\n",
    "    print((my_fav_int * 3) + 1)  # Otherwise, print the result of multiplying the variable by 3, plus 1\n"
   ]
  },
  {
   "cell_type": "markdown",
   "metadata": {
    "id": "H669P0QK5BI_"
   },
   "source": [
    "2. Створіть змінну, що посилається на список. Якщо список пустий, додайте будь-який елемент у кінець списку. Якщо ж ні, то нічого не робіть."
   ]
  },
  {
   "cell_type": "code",
   "execution_count": 1,
   "metadata": {
    "id": "ecWlfra45f6E"
   },
   "outputs": [],
   "source": [
    "# Create a variable referring to a list\n",
    "my_list = list(range(1, 6))\n",
    "\n",
    "if not my_list:  # Check if the list is empty\n",
    "    my_list.append(7)  # If so, add an element\n",
    "else:\n",
    "    pass  # Otherwise, do nothing"
   ]
  },
  {
   "cell_type": "markdown",
   "metadata": {
    "id": "h9Y3cMUd5h85"
   },
   "source": [
    "3. Створіть рядок зі своїм імʼям латинкою. Напишіть код, який би автоматизовував наступну задачу.\n",
    "\n",
    "Якщо в імені є літера \"а\"\n",
    " або \"i\", Виведіть на екран повідомлення \"A or I is in the name\".\n",
    "\n",
    "\n",
    "\n",
    "Якщо в імені є літери \"o\" та \"n\", Виведіть на екран повідомлення \"O and N is in the name\".\n",
    "\n",
    "Також якщо в імені немає літери \"о\", але є \"n\", Виведіть на екран повідомлення \"Only N is in the name\".\n",
    "\n",
    "В решті випадків виведіть на екран повідомлення \"There is no N in the name, but there might be O\".\n",
    "\n",
    "Зверніть увагу, що, наприклад, для імені \"Antonina\" буде виведено два повідомлення."
   ]
  },
  {
   "cell_type": "code",
   "execution_count": null,
   "metadata": {
    "id": "bUH4LUx35u52"
   },
   "outputs": [],
   "source": [
    "# Create a string with the name\n",
    "name = \"Anastasiia\"\n",
    "\n",
    "# Check if the name contains \"a\" or \"i\"\n",
    "if 'a' in name.lower() or 'i' in name.lower():\n",
    "    print(\"A or I is in the name\")\n",
    "\n",
    "# Check if the name contains both \"o\" and \"n\"\n",
    "if 'o' in name.lower() and 'n' in name.lower():\n",
    "    print(\"O and N is in the name\")\n",
    "\n",
    "# Check if the name contains \"n\" but not \"o\"\n",
    "if 'o' not in name.lower() and 'n' in name.lower():\n",
    "    print(\"Only N is in the name\")\n",
    "else:\n",
    "    print(\"There is no N in the name, but there might be O\")\n"
   ]
  },
  {
   "cell_type": "markdown",
   "metadata": {
    "id": "wPCXJv4354cU"
   },
   "source": [
    "# II. Comprehensions."
   ]
  },
  {
   "cell_type": "markdown",
   "metadata": {
    "id": "jULLW5jN55Pw"
   },
   "source": [
    "4. Створіть список, використовуючи if (не if-else), range та comprehension."
   ]
  },
  {
   "cell_type": "code",
   "execution_count": null,
   "metadata": {
    "id": "mlZalnVC6W3F"
   },
   "outputs": [],
   "source": [
    "# Create a list of even numbers from 1 to 10\n",
    "even_numbers = [x for x in range(1, 11) if x % 2 == 0]"
   ]
  },
  {
   "cell_type": "markdown",
   "metadata": {
    "id": "LqhEQ4JW6XcC"
   },
   "source": [
    "5. Створіть словник, використовуючи dict comprehension, що містить if else. Коли слід використовувати comprehensions, а коли їх слід уникати?"
   ]
  },
  {
   "cell_type": "code",
   "execution_count": null,
   "metadata": {
    "id": "1yVaFbOs6hta"
   },
   "outputs": [],
   "source": [
    "# Create a list of numbers from 1 to 10\n",
    "numbers = [1, 2, 3, 4, 5, 6, 7, 8, 9, 10]\n",
    "\n",
    "# Create a dictionary where the key is an element from the numbers list, and the value depends on the parity of the number in the list: if the number is even, it remains unchanged, if odd, it is multiplied by 2\n",
    "new_dict = {x: x if x % 2 == 0 else x*2 for x in numbers}"
   ]
  },
  {
   "cell_type": "markdown",
   "metadata": {
    "id": "wbkzNhKq6hzz"
   },
   "source": [
    "Comprehensions можна використовувати для створення списків, множин, словників тощо, а також для виконання операцій із перетворення даних чи, наприклад, фільтрування. Comprehensions можуть зробити код читабельнішим, скоротити необхідну для виконання задачі к-сть рядків коду. Тим часом, їх варто уникати, якщо вони роблять код важкочитабельним чи занадто складним. "
   ]
  },
  {
   "cell_type": "markdown",
   "metadata": {
    "id": "ZlqB8G3G6lHP"
   },
   "source": [
    "6. Створіть список з рядками та запишіть його у змінну. Створіть ще один список на основі попереднього, де кожен рядок буде містити тільки три перших заглавних символи. Наприклад: ['hello', 'i', 'dont', 'care'] -> ['HEL', 'I', 'DON', 'CAR']. Використання comprehensions обовʼязкове."
   ]
  },
  {
   "cell_type": "code",
   "execution_count": 3,
   "metadata": {
    "id": "nw6rz0bR60VC"
   },
   "outputs": [],
   "source": [
    "# Create a string\n",
    "original_string = \"Hello darkness my old friend\"\n",
    "\n",
    "# Create a list of strings and store it in the variable word_list\n",
    "word_list = original_string.split()\n",
    "\n",
    "# Create a new list where each string contains the first three characters in uppercase\n",
    "new_list = [word[:3].upper() for word in word_list]"
   ]
  },
  {
   "cell_type": "markdown",
   "metadata": {
    "id": "Tj573IAH64Fz"
   },
   "source": [
    "# III. Цикли."
   ]
  },
  {
   "cell_type": "markdown",
   "metadata": {
    "id": "tN_33xdE65H5"
   },
   "source": [
    "7. Продемонструйте роботу циклу while. Не можна використовувати True для запуску циклу, щоб уникнути безкінечного циклу!"
   ]
  },
  {
   "cell_type": "code",
   "execution_count": null,
   "metadata": {
    "id": "Kd9FO6yG63P5"
   },
   "outputs": [],
   "source": [
    "# Create a variable\n",
    "small_number = 1\n",
    "\n",
    "# Loop through numbers (from 1 to 9 inclusive with a step of 1)\n",
    "while small_number <= 9:\n",
    "    print(small_number)\n",
    "    small_number += 1 \n",
    "\n",
    "print(\"End of loop\")"
   ]
  },
  {
   "cell_type": "markdown",
   "metadata": {
    "id": "x2CmfZO-7pW0"
   },
   "source": [
    "8. Напишіть програму, яка виведе на екран непарні числа в діапазоні від 0 до 20 включно."
   ]
  },
  {
   "cell_type": "code",
   "execution_count": null,
   "metadata": {
    "id": "aCSRYA6s7tkF"
   },
   "outputs": [],
   "source": [
    "# Create a variable\n",
    "odd_number = 1\n",
    "\n",
    "# Loop through odd numbers from 1 to 20\n",
    "while odd_number <= 20:\n",
    "    print(odd_number)\n",
    "    odd_number += 2\n",
    "\n",
    "print(\"End of loop\")\n"
   ]
  },
  {
   "cell_type": "markdown",
   "metadata": {
    "id": "MDWNocZD7t_B"
   },
   "source": [
    "9. Створіть список з елементами булевого типу або None. Використовуючи цикли, отримайте в результаті список з кортежами, де перший елемент кортежу - індекс(ціле число), а другий елемент - відповідне значення з першого списку.\n",
    "\n",
    "Наприклад, [True, True, None, False] -> [(0, True), (1, True), (2, None), (3, False)]"
   ]
  },
  {
   "cell_type": "code",
   "execution_count": null,
   "metadata": {
    "id": "0EUyjMdp7yfh"
   },
   "outputs": [],
   "source": [
    "# Initial list with boolean and None elements\n",
    "original_list = [True, True, None, False]\n",
    "\n",
    "# Create an empty list to store tuples\n",
    "result_list = []\n",
    "\n",
    "# Iterate through the enumerate function, which returns the index and corresponding value\n",
    "for index, value in enumerate(original_list):\n",
    "    # Within the loop, create tuples and append them to the empty list\n",
    "    result_list.append((index, value))\n"
   ]
  },
  {
   "cell_type": "markdown",
   "metadata": {
    "id": "-6XUqlcG7zKs"
   },
   "source": [
    "10. Створіть словник, де ключі - назви книжок, а значення - їхня кількість у наявності в Вашій міні-бібліотеці. Бібліотека має містити щонайменше 6 книжок (6 пар значень у словнику) і щонайбільше 10 (пар значень). Використовуючи цикли, оновіть словник (не створюйте новий) так, щоби кількість книг у наявності збільшилося на 5 кожної книги. Наприклад,\n",
    "{'It': 3, 'Fault stars': 10, 'Bible': 17, 'Psychological romance': 4, 'Harry Potter': 13} -> {'It': 8, 'Fault stars': 15, 'Bible': 22, 'Psychological romance': 9, 'Harry Potter': 18}"
   ]
  },
  {
   "cell_type": "code",
   "execution_count": null,
   "metadata": {
    "id": "Ceoj9wwb791q"
   },
   "outputs": [],
   "source": [
    "# Create a dictionary where the keys are types of books and the values are their quantities\n",
    "library = {\n",
    "    'Harry Potter series': 7,\n",
    "    'By Terry Pratchett': 6,\n",
    "    'By Stephen King': 4,\n",
    "    'In English': 11,\n",
    "    'In French': 1,\n",
    "    'History books': 3,\n",
    "    'Poetry': 5\n",
    "}\n",
    "\n",
    "# Update the dictionary by increasing the quantity of each type of book by 5\n",
    "for book_type, quantity in library.items():\n",
    "    library[book_type] += 5"
   ]
  },
  {
   "cell_type": "markdown",
   "metadata": {
    "id": "QLzyJM288AC7"
   },
   "source": [
    "11. Визначте цілочислену змінну n, що належить проміжку від 4 до 10 включно. Використовуючи цикли, виведіть в консоль наступний патерн.\n",
    "\n",
    "#\n",
    "##\n",
    "###\n",
    "####\n",
    "\n",
    "... #*n\n"
   ]
  },
  {
   "cell_type": "code",
   "execution_count": null,
   "metadata": {
    "id": "KOpng87s8Duz",
    "is_executing": true
   },
   "outputs": [],
   "source": [
    "# Define a variable\n",
    "n = 8\n",
    "\n",
    "# Create an outer loop to determine the number (i) for each row\n",
    "for i in range(1, n + 1):\n",
    "    # Inner loop prints '#' i times\n",
    "    for j in range(i):\n",
    "        print(\"#\", end=\"\")\n",
    "    print()  # Move to the next line when '#' has been printed i times in the row"
   ]
  },
  {
   "cell_type": "markdown",
   "metadata": {
    "id": "_bd-bqAT8EHn"
   },
   "source": [
    "13. Гра \"Нумо вгадай\".\n",
    "Розробіть просту гру, де користувач має вгадати випадкове число від 1 до 100. Для генерації випадкового числа використовуйте функцію random.randint(a, b) (тут a та b включно). Для отримання числа з консолі використовуйте функцію input(), результат якої обовʼязково явно приведіть до типу int.\n",
    "\n",
    "Підказка: використовуйте цикл while та умови if-else, щоб повідомити користувачу піказки (напр. \"Більше\", \"Менше\") поки користувач не вгадає. По завершенню виведіть кількість спроб, які знадобилися для вгадування."
   ]
  },
  {
   "cell_type": "code",
   "execution_count": null,
   "metadata": {
    "id": "IK9nnxFK8Hkl"
   },
   "outputs": [],
   "source": [
    "import random\n",
    "def guess_the_number():\n",
    "    # Generate a random number between 1 and 100\n",
    "    secret_number = random.randint(1, 100)\n",
    "\n",
    "    # Initialize the number of attempts\n",
    "    attempts = 0\n",
    "\n",
    "    # Start the game loop\n",
    "    while True:\n",
    "        # Get user input\n",
    "        guess = int(input(\"Guess the number (between 1 and 100): \"))\n",
    "\n",
    "        # Increment the number of attempts\n",
    "        attempts += 1\n",
    "\n",
    "        # Check if the guess is correct\n",
    "        if guess == secret_number:\n",
    "            print(f\"Congratulations! You guessed the number {secret_number} correctly.\")\n",
    "            print(f\"It took you {attempts} attempts.\")\n",
    "            break\n",
    "        elif guess < secret_number:\n",
    "            print(\"More\")\n",
    "        else:\n",
    "            print(\"Less\")"
   ]
  },
  {
   "cell_type": "markdown",
   "metadata": {
    "id": "PXoXWb7Z8IGi"
   },
   "source": [
    "# Вітаю! Ви велика(ий) молодець, що впоралась(вся). Похваліть себе та побалуйте чимось приємним. Я Вами пишаюся."
   ]
  }
 ],
 "metadata": {
  "colab": {
   "provenance": []
  },
  "kernelspec": {
   "display_name": "Python 3",
   "language": "python",
   "name": "python3"
  },
  "language_info": {
   "codemirror_mode": {
    "name": "ipython",
    "version": 3
   },
   "file_extension": ".py",
   "mimetype": "text/x-python",
   "name": "python",
   "nbconvert_exporter": "python",
   "pygments_lexer": "ipython3",
   "version": "3.11.4"
  },
  "vscode": {
   "interpreter": {
    "hash": "aee8b7b246df8f9039afb4144a1f6fd8d2ca17a180786b69acc140d282b71a49"
   }
  }
 },
 "nbformat": 4,
 "nbformat_minor": 0
}
