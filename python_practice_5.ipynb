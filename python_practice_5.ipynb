{
 "cells": [
  {
   "cell_type": "markdown",
   "metadata": {
    "id": "5qV_sehzFCTp"
   },
   "source": [
    "# I. OOP"
   ]
  },
  {
   "cell_type": "markdown",
   "metadata": {
    "id": "tx_U_hOALyfg"
   },
   "source": [
    "1. (6б). Створіть клас Animal, додайте три атрибути, один з яких має значення за замовчуванням та два методи на свій розсуд."
   ]
  },
  {
   "cell_type": "code",
   "execution_count": null,
   "metadata": {
    "id": "-Vf895KaL88N"
   },
   "outputs": [],
   "source": [
    "class Animal:\n",
    "    def __init__(self, species, endangered, color=\"\"):\n",
    "        self.species = species\n",
    "        self.endangered = endangered\n",
    "        self.color = color\n",
    "\n",
    "    def is_endangered(self):\n",
    "        return self.endangered\n",
    "\n",
    "    def set_color(self, color):\n",
    "        self.color = color\n",
    "\n"
   ]
  },
  {
   "cell_type": "markdown",
   "metadata": {
    "id": "X_UlOMB0L93w"
   },
   "source": [
    "2. (2б). Створіть два обʼєкти цього класу, де один з обʼєктів створюється із дефолтним значенням атрибуту. На одному обʼєкті отримайте значення його атрибуту, а на іншому викличте один з його методів."
   ]
  },
  {
   "cell_type": "code",
   "execution_count": null,
   "metadata": {
    "id": "7gBu0ESOMCpG"
   },
   "outputs": [],
   "source": [
    "# Create an object with a default attribute value\n",
    "animal1 = Animal(species=\"Whale\", endangered=True)\n",
    "\n",
    "# Create a second object\n",
    "animal2 = Animal(species=\"Rabbit\", endangered=False, color=\"White\")\n",
    "\n",
    "# Get the value of the 'endangered' attribute for object 1\n",
    "print(f\"{animal1.species}s are endangered:\", animal1.is_endangered())\n",
    "\n",
    "# Call a method for object 2\n",
    "animal2.set_color(\"Gray\")\n",
    "print(f\"Color of {animal2.species} is\", animal2.color)"
   ]
  },
  {
   "cell_type": "markdown",
   "metadata": {
    "id": "HoqSCZt1MHn5"
   },
   "source": [
    "3. (5б). Створіть клас, де атрибути мають різні рівні доступу. Спробуйте отримати їхні значення та опишіть результати."
   ]
  },
  {
   "cell_type": "code",
   "execution_count": null,
   "metadata": {
    "id": "r9b3vJxBMSPV"
   },
   "outputs": [],
   "source": [
    "# Creating a student class\n",
    "class Student:\n",
    "    def __init__(self, name, year, grades):\n",
    "        self.name = name           # Public attribute\n",
    "        self._year = year          # Protected attribute\n",
    "        self.__grades = grades     # Private attribute\n",
    "\n",
    "# Creating an object in the class\n",
    "student1 = Student(\"Аnastasiia Zhornova\", 4, [90, 85, 95])\n",
    "\n",
    "# Getting attribute values with different access levels\n",
    "print(\"Student Name:\", student1.name)\n",
    "print(\"Student Year:\", student1._year)\n",
    "print(\"Student Grades:\", student1.__grades())\n",
    "\n",
    "# При спробі отримати значення атрибутів, бачимо значення для атрибутів із рівнем доступу public та protected\n",
    "# Проте, спроба отримати значення атрибуту із класом доступу Private отримуємо помилку\n"
   ]
  },
  {
   "cell_type": "markdown",
   "metadata": {
    "id": "5op2m2vgMSkZ"
   },
   "source": [
    "4. (7б). Як ви розумієте термін self? Для чого використовується метод __init __?"
   ]
  },
  {
   "cell_type": "markdown",
   "metadata": {
    "id": "DyiPqNRvMasx"
   },
   "source": [
    "Self - це конвенційно прйнятний спосіб виразити перший аргумент в методах класу, сам по собі є посиланням на конкретний об'єкт. Метод __init__ - це визначення функції ініціалізації об'єктів класу."
   ]
  },
  {
   "cell_type": "markdown",
   "metadata": {
    "id": "-6X8EGfjMd2y"
   },
   "source": [
    "5. (9б). Створіть клас Фігура без атрибутів, з методом get_area для отримання площі фігури, що повертає 0 та __add __, який приймає self та other в якості аргументів, а повертає суму площин фігур self та other."
   ]
  },
  {
   "cell_type": "code",
   "execution_count": 2,
   "metadata": {
    "ExecuteTime": {
     "end_time": "2024-04-03T19:57:42.723039Z",
     "start_time": "2024-04-03T19:57:42.707623Z"
    },
    "id": "4rvO_wYUMaEr"
   },
   "outputs": [],
   "source": [
    "class Shape:\n",
    "    def get_area(self):\n",
    "        return 0\n",
    "\n",
    "    def __add__(self, other):\n",
    "        return self.get_area() + other.get_area()"
   ]
  },
  {
   "cell_type": "markdown",
   "metadata": {
    "id": "SFcKnnv5Mo_z"
   },
   "source": [
    "6. (11б). Створіть 2 дочірніх класи від Фігури: Трикутник та Коло, які мають атрибути, необхідні для розрахунку площин. Визначте метод get_area в кожному з них так, щоби вони розраховували площу в залежності від формули для кожного типу фігури. Створіть обʼєкт класу Трикутник та обʼєкт класу Коло. Виконайте операцію суми за допомогою оператора + між ними."
   ]
  },
  {
   "cell_type": "code",
   "execution_count": 3,
   "metadata": {
    "ExecuteTime": {
     "end_time": "2024-04-03T19:57:48.485505Z",
     "start_time": "2024-04-03T19:57:48.465873Z"
    },
    "id": "H3GVNr69Muf3"
   },
   "outputs": [
    {
     "name": "stdout",
     "output_type": "stream",
     "text": [
      "Total area: 57.74\n"
     ]
    }
   ],
   "source": [
    "# Defining a subclass Triangle inherited from Shape class, specifying the arguments required for calculating the area\n",
    "class Triangle(Shape):\n",
    "    def __init__(self, base, height):\n",
    "        self.base = base\n",
    "        self.height = height\n",
    "\n",
    "    def get_area(self):  # Defining a function to calculate the area\n",
    "        return 0.5 * self.base * self.height\n",
    "    \n",
    "# Defining a subclass Circle inherited from Shape class, specifying the arguments required for calculating the area\n",
    "class Circle(Shape):\n",
    "    def __init__(self, radius):\n",
    "        self.radius = radius\n",
    "\n",
    "    def get_area(self):    # Defining a function to calculate the area\n",
    "        return 3.14 * self.radius**2\n",
    "\n",
    "# Creating a triangle object in the Triangle class, specifying the base and height; creating a circle object in the Circle class, specifying the radius\n",
    "triangle = Triangle(5, 3)\n",
    "circle = Circle(4)\n",
    "\n",
    "# Calculating the sum of the areas of the triangle and circle\n",
    "total_area = triangle + circle\n",
    "print(\"Total area:\", total_area)"
   ]
  },
  {
   "cell_type": "markdown",
   "metadata": {
    "id": "HCvR206YMvLK"
   },
   "source": [
    "7. (3б). Продемонструйте різницю між isinstance та issubclass."
   ]
  },
  {
   "cell_type": "code",
   "execution_count": 12,
   "metadata": {
    "ExecuteTime": {
     "end_time": "2024-04-03T20:11:18.900925Z",
     "start_time": "2024-04-03T20:11:18.886850Z"
    },
    "id": "L_V1bBvDM0GN"
   },
   "outputs": [
    {
     "name": "stdout",
     "output_type": "stream",
     "text": [
      "False\n",
      "True\n"
     ]
    }
   ],
   "source": [
    "# Використовуючи код із завдань 5 і 6:\n",
    "# Перевіряємо, чи клас Трикутник є об'єктом Фігури, виводимо на екран\n",
    "print (isinstance(Triangle, Shape))\n",
    "\n",
    "# Перевіряємо, чи клас Трикутник є підкласом Фігури, виводимо на екран\n",
    "print (issubclass(Triangle, Shape))\n",
    "\n",
    "# Трикутник -- це не об'єкт, а клас, тож у першому випадку отримуємо False. \n",
    "# Натомість, Трикутник -- це дочірний клас Фігури, тож у другому випадку отримуємо True"
   ]
  },
  {
   "cell_type": "markdown",
   "metadata": {
    "id": "jjsaBZ-iM0Qq"
   },
   "source": [
    "8. (13б). Створіть клас BankAccount з приватними атрибутами balance та account_number. Реалізуйте методи поповнення та зняття коштів, забезпечивши належну інкапсуляцію. Підказка: використовуйте декоратори property та setter."
   ]
  },
  {
   "cell_type": "code",
   "execution_count": 13,
   "metadata": {
    "ExecuteTime": {
     "end_time": "2024-04-03T20:30:20.279621Z",
     "start_time": "2024-04-03T20:30:20.214601Z"
    },
    "id": "xCvZ7lh8M7YA"
   },
   "outputs": [],
   "source": [
    "# Create a BankAccount class with private attributes balance and account_number\n",
    "class BankAccount:\n",
    "    def __init__(self, account_number, initial_balance=0):\n",
    "        self.__account_number = account_number\n",
    "        self.__balance = initial_balance\n",
    "\n",
    "    # Use the @property decorator to access private attributes (balance and account number)\n",
    "    @property\n",
    "    def balance(self):\n",
    "        return self.__balance\n",
    "\n",
    "    def account_number(self):\n",
    "        return self.__account_number\n",
    "\n",
    "    # Use the @setter decorator to assign new values to the balance, ensuring the balance is non-negative\n",
    "    @balance.setter\n",
    "    def balance(self, new_balance):\n",
    "        self.__balance = new_balance if new_balance >= 0 else self.__balance\n",
    "\n",
    "    # Define a function to deposit funds, checking if the deposit amount is positive, and add the amount to the current balance, updating it\n",
    "    def deposit(self, amount):\n",
    "        if amount > 0:\n",
    "            self.balance += amount\n",
    "\n",
    "    # Define a function to withdraw funds, checking if the withdrawal amount is positive and less than the current balance, subtract the amount from the current balance, updating it\n",
    "    def withdraw(self, amount):\n",
    "        if 0 < amount <= self.balance:\n",
    "            self.balance -= amount\n"
   ]
  },
  {
   "cell_type": "markdown",
   "metadata": {
    "id": "tIzL2SJTM8ft"
   },
   "source": [
    "9. (11б). Створіть клас Library, який містить список об'єктів типу Book. Реалізуйте методи для додавання книги, видалення книги та відображення списку книг."
   ]
  },
  {
   "cell_type": "code",
   "execution_count": 4,
   "metadata": {
    "ExecuteTime": {
     "end_time": "2024-04-03T20:49:28.427474Z",
     "start_time": "2024-04-03T20:49:28.357869Z"
    },
    "id": "HWxfJKLtNAUZ"
   },
   "outputs": [],
   "source": [
    "# Create a Book class with attributes title and author\n",
    "class Book:\n",
    "    def __init__(self, title, author):\n",
    "        self.title = title\n",
    "        self.author = author\n",
    "        \n",
    "# Create a Library class with a list containing all the books\n",
    "class Library:\n",
    "    def __init__(self):\n",
    "        self.books = []\n",
    "\n",
    "    # Define a function to add books\n",
    "    def add_book(self, title, author):\n",
    "        book = Book(title, author)\n",
    "        self.books.append(book)\n",
    "        print(f\"Book '{title}' by {author} added to the library.\")\n",
    "\n",
    "    # Define a function to remove books\n",
    "    def remove_book(self, title):\n",
    "        for book in self.books:\n",
    "            if book.title == title:\n",
    "                self.books.remove(book)\n",
    "                print(f\"Book '{title}' removed from the library.\")\n",
    "                return\n",
    "        print(f\"Book '{title}' not found in the library.\")\n",
    "\n",
    "    # Define a function to display books\n",
    "    def display_books(self):\n",
    "        if self.books:\n",
    "            print(\"Books in the library:\")\n",
    "            for book in self.books:\n",
    "                print(f\"- '{book.title}' by {book.author}\")\n",
    "        else:\n",
    "            print(\"The library is empty.\")\n"
   ]
  },
  {
   "cell_type": "markdown",
   "metadata": {
    "id": "lmV8pAwwNIqu"
   },
   "source": [
    "10. (13б). Створіть клас Person з атрибутами name та age. Створіть ще один клас Employee з такими атрибутами, як department та salary. Створіть клас Manager, який успадковує обидва класи Person та Employee. Продемонструйте використання множинної спадковості, створивши обʼєкт класу Manager та отримавши mro для цього класу."
   ]
  },
  {
   "cell_type": "code",
   "execution_count": null,
   "metadata": {
    "id": "R49grKlWNPeN"
   },
   "outputs": [],
   "source": [
    "class Person:\n",
    "    def __init__(self, name, age):\n",
    "        self.name = name\n",
    "        self.age = age\n",
    "\n",
    "class Employee:\n",
    "    def __init__(self, department, salary):\n",
    "        self.department = department\n",
    "        self.salary = salary\n",
    "\n",
    "# Create a Manager class that inherits from both Person and Employee classes\n",
    "class Manager(Person, Employee):\n",
    "    def __init__(self, name, age, department, salary):\n",
    "        Person.__init__(self, name, age)\n",
    "        Employee.__init__(self, department, salary)\n",
    "\n",
    "# Create an object in the Manager class\n",
    "manager = Manager(\"Anna Smith\", 25, \"HR\", 50000)\n",
    "\n",
    "# Get the Method Resolution Order (MRO) for the Manager class\n",
    "print(Manager.mro())\n"
   ]
  },
  {
   "cell_type": "markdown",
   "metadata": {
    "id": "dIJyUiNBFG8G"
   },
   "source": [
    "# II. Iterator"
   ]
  },
  {
   "attachments": {},
   "cell_type": "markdown",
   "metadata": {
    "id": "13vsm0NyKIzL"
   },
   "source": [
    "11. (4б). Визначте рядок(str) з 4ма різними за значенням символами. Створіть ітератор на основі цього рядка. Викличте 5 разів функцію next на ітераторі, 4ри перших з них огорніть у ф-цію print()."
   ]
  },
  {
   "cell_type": "code",
   "execution_count": null,
   "metadata": {
    "id": "81ntabAkKuz-"
   },
   "outputs": [],
   "source": [
    "# Define a string with 4 different characters\n",
    "my_string = \"abcd\"\n",
    "\n",
    "# Create an iterator based on the string\n",
    "my_iterator = iter(my_string)\n",
    "\n",
    "# Call the next function on the iterator 5 times\n",
    "for _ in range(5):\n",
    "    if _ < 4:\n",
    "        print(next(my_iterator))  # Wrap the first 4 in the print() function\n",
    "    else:\n",
    "        next(my_iterator)\n"
   ]
  },
  {
   "cell_type": "markdown",
   "metadata": {
    "id": "aekWHGXOLRsO"
   },
   "source": [
    "А що якщо викликати цю ж функцію на рядку?"
   ]
  },
  {
   "cell_type": "code",
   "execution_count": null,
   "metadata": {
    "id": "mxATGsErLV1i"
   },
   "outputs": [],
   "source": [
    "# Define a string with 4 different characters\n",
    "my_string = \"abcd\"\n",
    "\n",
    "# Call the function on the string\n",
    "try:\n",
    "    next(my_string)\n",
    "\n",
    "#  Get an error, as the string is not an iterator\n"
   ]
  },
  {
   "cell_type": "markdown",
   "metadata": {
    "id": "XwtMEopwJ4pH"
   },
   "source": [
    " 12. (5б). Опишіть своїми словами в одному реченні, як ви розумієте різницю між ітерабельними обʼєктами та ітераторами (можна на прикладі)."
   ]
  },
  {
   "attachments": {},
   "cell_type": "markdown",
   "metadata": {
    "id": "-sHrODc3KFn8"
   },
   "source": [
    "Ітерабельні об’єкти -- це набір елементів (наприклад, список), а ітератори переміщуються через ці елементи один за одним (наприклад, можнлива ітерація кожного елемента списку за допомогою циклу for)."
   ]
  },
  {
   "cell_type": "markdown",
   "metadata": {
    "id": "E9qJWmNbK8Gl"
   },
   "source": [
    "13. (11б). Створіть клас, що має визначений Iterator Protocol та при кожному виклику next повертає літери англійської абетки, поки вони не вичерпаються."
   ]
  },
  {
   "cell_type": "code",
   "execution_count": null,
   "metadata": {
    "id": "cqx-g_RsLo6I"
   },
   "outputs": [],
   "source": [
    "class AlphabetIterator:\n",
    "    def __init__(self):\n",
    "        self.current = ord('a') # Start with 'a' in ASCII values\n",
    "\n",
    "    def __iter__(self):\n",
    "        return self\n",
    "\n",
    "    def __next__(self):\n",
    "        if self.current > ord('z'):  # Check if we've reached 'z'\n",
    "            raise StopIteration\n",
    "        letter = chr(self.current)  # Convert ASCII value to letter\n",
    "        self.current += 1  # Move to the next letter\n",
    "        return letter\n"
   ]
  },
  {
   "cell_type": "markdown",
   "metadata": {
    "id": "Z3E3S_s1Fv7-"
   },
   "source": [
    "# Вітаю! Ви велика(ий) молодець, що впоралась(вся). Похваліть себе та побалуйте чимось приємним. Я Вами пишаюся."
   ]
  }
 ],
 "metadata": {
  "colab": {
   "provenance": []
  },
  "kernelspec": {
   "display_name": "Python 3",
   "language": "python",
   "name": "python3"
  },
  "language_info": {
   "codemirror_mode": {
    "name": "ipython",
    "version": 3
   },
   "file_extension": ".py",
   "mimetype": "text/x-python",
   "name": "python",
   "nbconvert_exporter": "python",
   "pygments_lexer": "ipython3",
   "version": "3.11.4"
  },
  "vscode": {
   "interpreter": {
    "hash": "aee8b7b246df8f9039afb4144a1f6fd8d2ca17a180786b69acc140d282b71a49"
   }
  }
 },
 "nbformat": 4,
 "nbformat_minor": 0
}
